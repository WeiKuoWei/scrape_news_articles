{
 "cells": [
  {
   "cell_type": "code",
   "execution_count": 9,
   "metadata": {},
   "outputs": [],
   "source": [
    "import time\n",
    "import logging\n",
    "from pathlib import Path\n",
    "\n",
    "from config import ScraperConfig\n",
    "from wayback_scraper import WaybackMachineScraper\n",
    "from url_extractor import URLExtractor\n",
    "from article_fetcher import ArticleFetcher\n",
    "\n",
    "logger = logging.getLogger(__name__)"
   ]
  },
  {
   "cell_type": "code",
   "execution_count": null,
   "metadata": {},
   "outputs": [
    {
     "name": "stderr",
     "output_type": "stream",
     "text": [
      "2025-03-19 01:09:05,032 - INFO - Starting news scraper\n",
      "2025-03-19 01:09:05,037 - INFO - Loaded configuration with 2 target sites\n",
      "2025-03-19 01:09:05,040 - INFO - Processing cnn\n",
      "2025-03-19 01:09:05,043 - INFO - Fetching Wayback Machine snapshots for cnn (https://cnn.com/us) from 2020 to 2023\n",
      "2025-03-19 01:09:05,043 - INFO - Checking snapshots for https://cnn.com/us\n",
      "2025-03-19 01:09:14,125 - WARNING - No snapshot found for https://cnn.com/us on 2020-1-1\n",
      "2025-03-19 01:09:20,711 - INFO - Snapshot URL points to https://www.cnn.com/us, which differs from requested https://cnn.com/us\n",
      "2025-03-19 01:09:20,715 - INFO - Found snapshot for https://cnn.com/us on 2020-1-2: http://web.archive.org/web/20200103001622/https://www.cnn.com/us\n",
      "2025-03-19 01:09:20,716 - INFO - Saved snapshot for https://cnn.com/us on 2020-1-2\n",
      "2025-03-19 01:09:22,366 - INFO - Snapshot URL points to https://www.cnn.com/us, which differs from requested https://cnn.com/us\n",
      "2025-03-19 01:09:22,367 - INFO - Found snapshot for https://cnn.com/us on 2020-1-3: http://web.archive.org/web/20200104003023/https://www.cnn.com/us\n",
      "2025-03-19 01:09:22,367 - INFO - Saved snapshot for https://cnn.com/us on 2020-1-3\n",
      "2025-03-19 01:09:24,535 - INFO - Snapshot URL points to https://www.cnn.com/us, which differs from requested https://cnn.com/us\n",
      "2025-03-19 01:09:24,536 - INFO - Found snapshot for https://cnn.com/us on 2020-1-4: http://web.archive.org/web/20200104201551/https://www.cnn.com/us\n",
      "2025-03-19 01:09:24,537 - INFO - Saved snapshot for https://cnn.com/us on 2020-1-4\n",
      "2025-03-19 01:09:30,840 - WARNING - No snapshot found for https://cnn.com/us on 2020-1-5\n",
      "2025-03-19 01:09:32,438 - INFO - Snapshot URL points to https://www.cnn.com/us, which differs from requested https://cnn.com/us\n",
      "2025-03-19 01:09:32,438 - INFO - Found snapshot for https://cnn.com/us on 2020-1-6: http://web.archive.org/web/20200106044643/https://www.cnn.com/us\n",
      "2025-03-19 01:09:32,439 - INFO - Saved snapshot for https://cnn.com/us on 2020-1-6\n"
     ]
    }
   ],
   "source": [
    "\"\"\"Main function to run the news scraper\"\"\"\n",
    "start_time = time.time()\n",
    "logger.info(\"Starting news scraper\")\n",
    "\n",
    "# Initialize configuration\n",
    "config = ScraperConfig()\n",
    "\n",
    "# Initialize scrapers\n",
    "wayback_scraper = WaybackMachineScraper(config)\n",
    "url_extractor = URLExtractor(config)\n",
    "article_fetcher = ArticleFetcher(config)\n",
    "\n",
    "# Process each target site\n",
    "for site_name in config.target_sites:\n",
    "    logger.info(f\"Processing {site_name}\")\n",
    "    \n",
    "    # Step 1: Get Wayback Machine snapshots\n",
    "    step_start = time.time()\n",
    "    wayback_scraper.get_snapshots(site_name)\n",
    "    logger.info(f\"Step 1 (Get snapshots) completed in {time.time() - step_start:.2f} seconds\")\n",
    "    \n",
    "    # # Step 2: Extract URLs from snapshots\n",
    "    # step_start = time.time()\n",
    "    # url_extractor.extract_urls(site_name)\n",
    "    # logger.info(f\"Step 2 (Extract URLs) completed in {time.time() - step_start:.2f} seconds\")\n",
    "    \n",
    "    # # Step 3: Fetch articles\n",
    "    # step_start = time.time()\n",
    "    # article_fetcher.fetch_articles(site_name)\n",
    "    # logger.info(f\"Step 3 (Fetch articles) completed in {time.time() - step_start:.2f} seconds\")\n",
    "\n",
    "total_time = time.time() - start_time\n",
    "logger.info(f\"News scraper completed in {total_time:.2f} seconds\")"
   ]
  },
  {
   "cell_type": "code",
   "execution_count": null,
   "metadata": {},
   "outputs": [],
   "source": []
  }
 ],
 "metadata": {
  "kernelspec": {
   "display_name": ".venv",
   "language": "python",
   "name": "python3"
  },
  "language_info": {
   "codemirror_mode": {
    "name": "ipython",
    "version": 3
   },
   "file_extension": ".py",
   "mimetype": "text/x-python",
   "name": "python",
   "nbconvert_exporter": "python",
   "pygments_lexer": "ipython3",
   "version": "3.12.1"
  }
 },
 "nbformat": 4,
 "nbformat_minor": 2
}
