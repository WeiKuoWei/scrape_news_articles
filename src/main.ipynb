{
 "cells": [
  {
   "cell_type": "code",
   "execution_count": null,
   "metadata": {},
   "outputs": [],
   "source": [
    "import time\n",
    "import logging\n",
    "from pathlib import Path\n",
    "\n",
    "from config import ScraperConfig\n",
    "from wayback_scraper import WaybackMachineScraper\n",
    "from url_extractor import URLExtractor\n",
    "from article_fetcher import ArticleFetcher\n",
    "\n",
    "logger = logging.getLogger(__name__)\n",
    "\n",
    "# Initialize configuration\n",
    "config = ScraperConfig()"
   ]
  },
  {
   "cell_type": "code",
   "execution_count": null,
   "metadata": {},
   "outputs": [],
   "source": [
    "wayback_scraper = WaybackMachineScraper(config)\n",
    "\n",
    "# Process each target site\n",
    "for site_name in config.target_sites:\n",
    "    logger.info(f\"Processing {site_name}\")\n",
    "    \n",
    "    # Step 1: Get Wayback Machine snapshots\n",
    "    step_start = time.time()\n",
    "    wayback_scraper.get_snapshots(site_name)\n",
    "    logger.info(f\"Step 1 (Get snapshots) completed in {time.time() - step_start:.2f} seconds\")"
   ]
  },
  {
   "cell_type": "code",
   "execution_count": null,
   "metadata": {},
   "outputs": [],
   "source": [
    "url_extractor = URLExtractor(config)\n",
    "\n",
    "for site_name in config.target_sites:\n",
    "    logger.info(f\"Processing {site_name}\")\n",
    "\n",
    "    # Step 2: Extract URLs from snapshots\n",
    "    step_start = time.time()\n",
    "    url_extractor.extract_urls(site_name)\n",
    "    logger.info(f\"Step 2 (Extract URLs) completed in {time.time() - step_start:.2f} seconds\")"
   ]
  },
  {
   "cell_type": "code",
   "execution_count": null,
   "metadata": {},
   "outputs": [],
   "source": [
    "article_fetcher = ArticleFetcher(config)\n",
    "\n",
    "for site_name in config.target_sites:\n",
    "    logger.info(f\"Processing {site_name}\")\n",
    "    \n",
    "    # Step 3: Fetch articles\n",
    "    step_start = time.time()\n",
    "    article_fetcher.fetch_articles(site_name)\n",
    "    logger.info(f\"Step 3 (Fetch articles) completed in {time.time() - step_start:.2f} seconds\")"
   ]
  },
  {
   "cell_type": "code",
   "execution_count": null,
   "metadata": {},
   "outputs": [],
   "source": []
  }
 ],
 "metadata": {
  "kernelspec": {
   "display_name": ".venv",
   "language": "python",
   "name": "python3"
  },
  "language_info": {
   "codemirror_mode": {
    "name": "ipython",
    "version": 3
   },
   "file_extension": ".py",
   "mimetype": "text/x-python",
   "name": "python",
   "nbconvert_exporter": "python",
   "pygments_lexer": "ipython3",
   "version": "3.12.1"
  }
 },
 "nbformat": 4,
 "nbformat_minor": 2
}
