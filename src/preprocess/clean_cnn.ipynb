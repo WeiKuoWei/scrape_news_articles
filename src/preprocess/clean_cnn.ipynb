{
 "cells": [
  {
   "cell_type": "code",
   "execution_count": null,
   "metadata": {},
   "outputs": [],
   "source": [
    "import pandas as pd\n",
    "import os \n",
    "\n",
    "# Create project paths\n",
    "PROJECT_ROOT = os.getcwd()\n",
    "DATA_DIR = os.path.join(PROJECT_ROOT, \"..\", \"..\", \"data\", \"cnn\")\n",
    "\n",
    "# open urls_uncleaned.csv\n",
    "df = pd.read_csv(f'{DATA_DIR}/urls_uncleaned.csv', header=None, encoding='utf-8')\n"
   ]
  },
  {
   "cell_type": "code",
   "execution_count": null,
   "metadata": {},
   "outputs": [],
   "source": [
    "# positive filtering\n",
    "df = df[df[1].str.len() >= 45]\n",
    "df = df[df[1].str.contains(\"/www.\")]\n",
    "df = df[df[1].str.contains(\"us\")]\n",
    "\n",
    "# # negative filtering\n",
    "df = df[~df[1].str.contains(\"/video/\")]\n",
    "df = df[~df[1].str.contains(\"/videos/\")]\n",
    "df = df[~df[1].str.contains(\"/showbiz/\")]\n",
    "\n",
    "df = df[~df[1].str.contains(\"/business/\")]\n",
    "df = df[~df[1].str.contains(\"/live-news/\")]\n",
    "df = df[~df[1].str.contains(\"/africa/\")]\n",
    "df = df[~df[1].str.contains(\"/asia/\")]\n",
    "df = df[~df[1].str.contains(\"/gallery/\")]\n",
    "df = df[~df[1].str.contains(\"/media/\")]\n",
    "df = df[~df[1].str.contains(\"/design/\")]\n",
    "df = df[~df[1].str.contains(\"/specials/\")]\n",
    "df = df[~df[1].str.contains(\"/weather/\")]\n",
    "df = df[~df[1].str.contains(\"/homes/\")]\n",
    "df = df[~df[1].str.contains(\"/europe/\")]\n",
    "df = df[~df[1].str.contains(\"/living/\")]\n",
    "df = df[~df[1].str.contains(\"/travel/\")]\n",
    "df = df[~df[1].str.contains(\"/health/\")]\n",
    "df = df[~df[1].str.contains(\"/interactive/\")]\n",
    "df = df[~df[1].str.contains(\"http://web.archive.org\")]\n",
    "\n",
    "# sorting and duplicate removal\n",
    "df[\"length\"] = df[1].str.len()\n",
    "df.sort_values(by=\"length\", ascending=True, inplace=True)\n",
    "df.drop(columns=\"length\", inplace=True)\n",
    "\n",
    "# Drop the duplicates\n",
    "df.drop_duplicates(subset=[1], inplace=True)  # Assuming the second column has index 1\n",
    "\n",
    "# drop the forth column\n",
    "df.drop(columns=[3], inplace=True)  \n",
    "\n",
    "# save the cleaned dataframe to urls_cleaned.csv\n",
    "df.to_csv(f'{DATA_DIR}/urls_cleaned.csv', header=None, index=False)\n"
   ]
  },
  {
   "cell_type": "code",
   "execution_count": null,
   "metadata": {},
   "outputs": [],
   "source": []
  }
 ],
 "metadata": {
  "kernelspec": {
   "display_name": ".venv",
   "language": "python",
   "name": "python3"
  },
  "language_info": {
   "codemirror_mode": {
    "name": "ipython",
    "version": 3
   },
   "file_extension": ".py",
   "mimetype": "text/x-python",
   "name": "python",
   "nbconvert_exporter": "python",
   "pygments_lexer": "ipython3",
   "version": "3.12.1"
  }
 },
 "nbformat": 4,
 "nbformat_minor": 2
}
