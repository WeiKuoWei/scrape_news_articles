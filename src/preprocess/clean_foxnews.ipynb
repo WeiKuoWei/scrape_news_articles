{
 "cells": [
  {
   "cell_type": "code",
   "execution_count": null,
   "metadata": {},
   "outputs": [],
   "source": [
    "import pandas as pd\n",
    "import re\n",
    "import os\n",
    "\n",
    "# Create project paths\n",
    "PROJECT_ROOT = os.getcwd()\n",
    "DATA_DIR = os.path.join(PROJECT_ROOT, \"..\", \"..\", \"data\", \"cnn\")\n",
    "\n",
    "# open urls_uncleaned.csv\n",
    "df = pd.read_csv(f'{DATA_DIR}/urls_uncleaned.csv', header=None, encoding='utf-8')"
   ]
  },
  {
   "cell_type": "code",
   "execution_count": 9,
   "metadata": {},
   "outputs": [],
   "source": [
    "# Create a new column with the original URL (after the timestamp)\n",
    "df['original_url'] = df[1].apply(lambda x: re.sub(r'http://web.archive.org/web/\\d+/(http.*)', r'\\1', x))\n",
    "# df['wayback_url'] = df[1].copy()\n",
    "\n",
    "# positive filtering\n",
    "df = df[df['original_url'].str.len() >= 10]\n",
    "df = df[df['original_url'].str.contains(\"us\")]\n",
    "\n",
    "# filter out urls that are shorter than 70 characters AND does not contain numbers\n",
    "df = df[~((df['original_url'].str.len() < 75) & (~df['original_url'].str.contains(r'\\d')))]\n",
    "\n",
    "# negative filtering\n",
    "df = df[~df['original_url'].str.contains(\"/video.\")]\n",
    "df = df[~df['original_url'].str.contains(\"/latino.\")]\n",
    "df = df[~df['original_url'].str.contains(\"/sports/\")]\n",
    "df = df[~df['original_url'].str.contains(\"/weather/\")]\n",
    "df = df[~df['original_url'].str.contains(\"/lifestyle/\")]\n",
    "df = df[~df['original_url'].str.contains(\"/travel/\")]\n",
    "df = df[~df['original_url'].str.contains(\"/health/\")]\n",
    "df = df[~df['original_url'].str.contains(\"/entertainment/\")]\n",
    "df = df[~df['original_url'].str.contains(\"/slideshow/\")]\n",
    "df = df[~df['original_url'].str.contains(\"/tech/\")]\n",
    "df = df[~df['original_url'].str.contains(\"/world/\")]\n",
    "df = df[~df['original_url'].str.contains(\"/science/\")]\n",
    "df = df[~df['original_url'].str.contains(\"/opinion/\")]\n",
    "\n",
    "df = df[~df['original_url'].str.contains(\"wpri\")]\n",
    "df = df[~df['original_url'].str.contains(\"dailyfinance\")]\n",
    "df = df[~df['original_url'].str.contains(\"kdvr\")]\n",
    "df = df[~df['original_url'].str.contains(\"fox4kc\")]\n",
    "df = df[~df['original_url'].str.contains(\"aol.com\")]\n",
    "df = df[~df['original_url'].str.contains(\"fox4kc\")]\n",
    "df = df[~df['original_url'].str.contains(\"fox13now\")]\n",
    "df = df[~df['original_url'].str.contains(\"foxcarolina\")]\n",
    "\n",
    "# Drop the duplicates based on the original URL\n",
    "df.drop_duplicates(subset=['original_url'], inplace=True)\n",
    "\n",
    "# sorting and duplicate removal\n",
    "df[\"length\"] = df['original_url'].str.len()\n",
    "df.sort_values(by=\"length\", ascending=True, inplace=True)\n",
    "df.drop(columns=\"length\", inplace=True)\n",
    "\n",
    "# replace df[1] with df['original_url']\n",
    "# df[1] = df['original_url']\n",
    "df.drop(columns='original_url', inplace=True)\n",
    "\n",
    "# save the cleaned dataframe to urls_cleaned.csv\n",
    "df.to_csv(f'{DATA_DIR}/urls_cleaned_test.csv', header=None, index=False)"
   ]
  },
  {
   "cell_type": "code",
   "execution_count": null,
   "metadata": {},
   "outputs": [],
   "source": []
  }
 ],
 "metadata": {
  "kernelspec": {
   "display_name": ".venv",
   "language": "python",
   "name": "python3"
  },
  "language_info": {
   "codemirror_mode": {
    "name": "ipython",
    "version": 3
   },
   "file_extension": ".py",
   "mimetype": "text/x-python",
   "name": "python",
   "nbconvert_exporter": "python",
   "pygments_lexer": "ipython3",
   "version": "3.12.1"
  }
 },
 "nbformat": 4,
 "nbformat_minor": 2
}
